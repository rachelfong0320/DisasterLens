{
 "cells": [
  {
   "cell_type": "code",
   "execution_count": null,
   "id": "675c4788-0578-488c-adac-2bf78d924ed2",
   "metadata": {},
   "outputs": [
    {
     "name": "stdout",
     "output_type": "stream",
     "text": [
      "Tweet 1915027888963027117 inserted.\n",
      "Insert error: E11000 duplicate key error collection: TweetData.CleanedTweets index: tweet_id_1 dup key: { tweet_id: \"1846167327697785202\" }, full error: {'index': 0, 'code': 11000, 'errmsg': 'E11000 duplicate key error collection: TweetData.CleanedTweets index: tweet_id_1 dup key: { tweet_id: \"1846167327697785202\" }', 'keyPattern': {'tweet_id': 1}, 'keyValue': {'tweet_id': '1846167327697785202'}}\n"
     ]
    }
   ],
   "source": [
    "!run main.py"
   ]
  },
  {
   "cell_type": "code",
   "execution_count": null,
   "id": "e00c2e79-3c34-41b0-a08d-e46527f5e9e4",
   "metadata": {},
   "outputs": [],
   "source": []
  }
 ],
 "metadata": {
  "kernelspec": {
   "display_name": "Python 3 (ipykernel)",
   "language": "python",
   "name": "python3"
  },
  "language_info": {
   "codemirror_mode": {
    "name": "ipython",
    "version": 3
   },
   "file_extension": ".py",
   "mimetype": "text/x-python",
   "name": "python",
   "nbconvert_exporter": "python",
   "pygments_lexer": "ipython3",
   "version": "3.11.13"
  }
 },
 "nbformat": 4,
 "nbformat_minor": 5
}
