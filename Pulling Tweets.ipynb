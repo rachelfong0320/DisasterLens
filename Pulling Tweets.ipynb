{
 "cells": [
  {
   "cell_type": "code",
   "execution_count": 1,
   "id": "393714f8-e859-4cd9-b915-0080d5f74ffa",
   "metadata": {},
   "outputs": [
    {
     "name": "stdout",
     "output_type": "stream",
     "text": [
      "Requirement already satisfied: tweepy in c:\\users\\dell\\miniconda3\\envs\\python\\lib\\site-packages (4.15.0)\n",
      "Requirement already satisfied: oauthlib<4,>=3.2.0 in c:\\users\\dell\\miniconda3\\envs\\python\\lib\\site-packages (from tweepy) (3.2.2)\n",
      "Requirement already satisfied: requests<3,>=2.27.0 in c:\\users\\dell\\miniconda3\\envs\\python\\lib\\site-packages (from tweepy) (2.32.3)\n",
      "Requirement already satisfied: requests-oauthlib<3,>=1.2.0 in c:\\users\\dell\\miniconda3\\envs\\python\\lib\\site-packages (from tweepy) (2.0.0)\n",
      "Requirement already satisfied: charset-normalizer<4,>=2 in c:\\users\\dell\\miniconda3\\envs\\python\\lib\\site-packages (from requests<3,>=2.27.0->tweepy) (3.4.2)\n",
      "Requirement already satisfied: idna<4,>=2.5 in c:\\users\\dell\\miniconda3\\envs\\python\\lib\\site-packages (from requests<3,>=2.27.0->tweepy) (3.10)\n",
      "Requirement already satisfied: urllib3<3,>=1.21.1 in c:\\users\\dell\\miniconda3\\envs\\python\\lib\\site-packages (from requests<3,>=2.27.0->tweepy) (2.4.0)\n",
      "Requirement already satisfied: certifi>=2017.4.17 in c:\\users\\dell\\miniconda3\\envs\\python\\lib\\site-packages (from requests<3,>=2.27.0->tweepy) (2025.4.26)\n",
      "Note: you may need to restart the kernel to use updated packages.\n"
     ]
    }
   ],
   "source": [
    "pip install tweepy"
   ]
  },
  {
   "cell_type": "code",
   "execution_count": 2,
   "id": "cdd1bea4-addb-49d6-bed3-8992df7cb683",
   "metadata": {},
   "outputs": [
    {
     "name": "stdout",
     "output_type": "stream",
     "text": [
      "Requirement already satisfied: pandas in c:\\users\\dell\\miniconda3\\envs\\python\\lib\\site-packages (2.2.3)\n",
      "Requirement already satisfied: numpy>=1.23.2 in c:\\users\\dell\\miniconda3\\envs\\python\\lib\\site-packages (from pandas) (2.2.5)\n",
      "Requirement already satisfied: python-dateutil>=2.8.2 in c:\\users\\dell\\miniconda3\\envs\\python\\lib\\site-packages (from pandas) (2.9.0.post0)\n",
      "Requirement already satisfied: pytz>=2020.1 in c:\\users\\dell\\miniconda3\\envs\\python\\lib\\site-packages (from pandas) (2025.2)\n",
      "Requirement already satisfied: tzdata>=2022.7 in c:\\users\\dell\\miniconda3\\envs\\python\\lib\\site-packages (from pandas) (2025.2)\n",
      "Requirement already satisfied: six>=1.5 in c:\\users\\dell\\miniconda3\\envs\\python\\lib\\site-packages (from python-dateutil>=2.8.2->pandas) (1.17.0)\n"
     ]
    }
   ],
   "source": [
    "!pip install pandas"
   ]
  },
  {
   "cell_type": "code",
   "execution_count": 2,
   "id": "2ddb2706-8b82-4c09-92d1-1b1fdba183b3",
   "metadata": {},
   "outputs": [
    {
     "name": "stdout",
     "output_type": "stream",
     "text": [
      "Request failed: {\"client_id\":\"30669333\",\"detail\":\"When authenticating requests to the Twitter API v2 endpoints, you must use keys and tokens from a Twitter developer App that is attached to a Project. You can create a project via the developer portal.\",\"registration_url\":\"https://developer.twitter.com/en/docs/projects/overview\",\"title\":\"Client Forbidden\",\"required_enrollment\":\"Appropriate Level of API Access\",\"reason\":\"client-not-enrolled\",\"type\":\"https://api.twitter.com/2/problems/client-forbidden\"}\n"
     ]
    }
   ],
   "source": [
    "import tweepy\n",
    "import json\n",
    "\n",
    "# Replace with your actual Bearer Token from developer.x.com\n",
    "bearer_token = \"AAAAAAAAAAAAAAAAAAAAABX60wEAAAAAfoY5SEQGqPSTyZu4u5TLfRsevcA%3DIGacIgwvC8CR0UsmRVeT8aFhTehLS1UclTqCTzWx9ezyqSePof\"\n",
    "\n",
    "# Initialize the Tweepy client\n",
    "client = tweepy.Client(bearer_token=bearer_token)\n",
    "\n",
    "# Define a simple query (you can customize this)\n",
    "query = \"(banjir OR flood OR earthquake OR gempa OR tsunami OR landslide OR haze OR storm OR typhoon OR tornado OR disaster OR emergency OR rescue OR evacuate) (Malaysia OR KL OR Selangor OR Johor OR Penang OR Sabah OR Sarawak OR Kedah OR Kelantan OR Perlis OR Perak OR Putrajaya OR Negeri Sembilan OR Melaka OR Terengganu OR Pahang) -is:retweet lang:en\"\n",
    "\n",
    "\n",
    "# Send request\n",
    "response = client.search_recent_tweets(\n",
    "    query=query,\n",
    "    max_results=10,  # Max 100 if needed\n",
    "    tweet_fields=[\"created_at\", \"text\", \"author_id\", \"public_metrics\"]\n",
    ")\n",
    "\n",
    "# Print raw JSON for each tweet\n",
    "if response.data:\n",
    "    for tweet in response.data:\n",
    "        raw_data = tweet.data  # Raw dict of the tweet\n",
    "        print(json.dumps(raw_data, indent=2))  # Pretty print\n",
    "else:\n",
    "    print(\"No tweets found.\")\n"
   ]
  },
  {
   "cell_type": "code",
   "execution_count": null,
   "id": "fe6eb6c0-ed9f-42e9-979a-3e336eab4697",
   "metadata": {},
   "outputs": [],
   "source": []
  }
 ],
 "metadata": {
  "kernelspec": {
   "display_name": "Python 3 (ipykernel)",
   "language": "python",
   "name": "python3"
  },
  "language_info": {
   "codemirror_mode": {
    "name": "ipython",
    "version": 3
   },
   "file_extension": ".py",
   "mimetype": "text/x-python",
   "name": "python",
   "nbconvert_exporter": "python",
   "pygments_lexer": "ipython3",
   "version": "3.11.13"
  }
 },
 "nbformat": 4,
 "nbformat_minor": 5
}
